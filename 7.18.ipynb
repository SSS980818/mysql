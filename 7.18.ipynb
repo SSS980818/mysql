{
 "cells": [
  {
   "cell_type": "markdown",
   "metadata": {},
   "source": [
    "# 选择\n",
    "## 布尔类型、数值和表达式\n",
    "![](../Photo/33.png)\n",
    "- 注意：比较运算符的相等是两个等号，一个等到代表赋值\n",
    "- 在Python中可以用整型0来代表False，其他数字来代表True\n",
    "- 后面还会讲到 is 在判断语句中的用发"
   ]
  },
  {
   "cell_type": "code",
   "execution_count": 1,
   "metadata": {},
   "outputs": [
    {
     "data": {
      "text/plain": [
       "False"
      ]
     },
     "execution_count": 1,
     "metadata": {},
     "output_type": "execute_result"
    }
   ],
   "source": [
    "1=='1'#可以和字符串进行==比较，<>都不可以"
   ]
  },
  {
   "cell_type": "code",
   "execution_count": 2,
   "metadata": {},
   "outputs": [
    {
     "data": {
      "text/plain": [
       "True"
      ]
     },
     "execution_count": 2,
     "metadata": {},
     "output_type": "execute_result"
    }
   ],
   "source": [
    "1<=2<=3"
   ]
  },
  {
   "cell_type": "code",
   "execution_count": 3,
   "metadata": {},
   "outputs": [
    {
     "data": {
      "text/plain": [
       "False"
      ]
     },
     "execution_count": 3,
     "metadata": {},
     "output_type": "execute_result"
    }
   ],
   "source": [
    "bool(0)#True or False是布尔值"
   ]
  },
  {
   "cell_type": "code",
   "execution_count": 4,
   "metadata": {},
   "outputs": [
    {
     "name": "stdout",
     "output_type": "stream",
     "text": [
      "140714761491264 140714761491264\n"
     ]
    }
   ],
   "source": [
    "a=id(1)\n",
    "b=id(1)\n",
    "#因为a和b不是同一个对象，所以不能用is\n",
    "print(a,b)"
   ]
  },
  {
   "cell_type": "markdown",
   "metadata": {},
   "source": [
    "## 字符串的比较使用ASCII值"
   ]
  },
  {
   "cell_type": "code",
   "execution_count": 5,
   "metadata": {},
   "outputs": [
    {
     "data": {
      "text/plain": [
       "False"
      ]
     },
     "execution_count": 5,
     "metadata": {},
     "output_type": "execute_result"
    }
   ],
   "source": [
    "a=(\"Jo\")\n",
    "b=(\"jo\")\n",
    "a>b"
   ]
  },
  {
   "cell_type": "code",
   "execution_count": 6,
   "metadata": {},
   "outputs": [
    {
     "data": {
      "text/plain": [
       "True"
      ]
     },
     "execution_count": 6,
     "metadata": {},
     "output_type": "execute_result"
    }
   ],
   "source": [
    "a=(\"jo\")\n",
    "b=(\"ja\")\n",
    "a>b"
   ]
  },
  {
   "cell_type": "markdown",
   "metadata": {},
   "source": [
    "## Markdown \n",
    "- https://github.com/younghz/Markdown"
   ]
  },
  {
   "cell_type": "markdown",
   "metadata": {},
   "source": [
    "$\\sum_(j=1)^{N}x_{j}$"
   ]
  },
  {
   "cell_type": "markdown",
   "metadata": {},
   "source": [
    "## EP:\n",
    "- <img src=\"../Photo/34.png\"></img>\n",
    "- 输入一个数字，判断其实奇数还是偶数"
   ]
  },
  {
   "cell_type": "code",
   "execution_count": 8,
   "metadata": {},
   "outputs": [],
   "source": [
    "i = int(True)\n",
    "j=int(False)"
   ]
  },
  {
   "cell_type": "markdown",
   "metadata": {},
   "source": [
    "## 产生随机数字\n",
    "- 函数random.randint(a,b) 可以用来产生一个a和b之间且包括a和b的随机整数"
   ]
  },
  {
   "cell_type": "code",
   "execution_count": 9,
   "metadata": {},
   "outputs": [
    {
     "data": {
      "text/plain": [
       "0"
      ]
     },
     "execution_count": 9,
     "metadata": {},
     "output_type": "execute_result"
    }
   ],
   "source": [
    "import random\n",
    "random.randint(0,2)#前闭后闭"
   ]
  },
  {
   "cell_type": "markdown",
   "metadata": {},
   "source": [
    "产生一个随机数，你去输入，如果你输入的数大于随机数，那么就告诉你太大了，反之，太小了，\n",
    "然后你一直输入，知道它满意为止"
   ]
  },
  {
   "cell_type": "code",
   "execution_count": 10,
   "metadata": {},
   "outputs": [],
   "source": [
    "import random\n",
    "a=random.randint(0,3)"
   ]
  },
  {
   "cell_type": "code",
   "execution_count": 11,
   "metadata": {},
   "outputs": [
    {
     "name": "stdout",
     "output_type": "stream",
     "text": [
      "请输入一个数2\n",
      "太大了\n"
     ]
    }
   ],
   "source": [
    "for i in range(5):\n",
    "    b=eval(input('请输入一个数'))#逢冒号必缩\n",
    "    if b>a:\n",
    "        print('太大了')\n",
    "    if b<a:\n",
    "        print('太小了')\n",
    "    if b==a:\n",
    "        print('正好')\n",
    "    break"
   ]
  },
  {
   "cell_type": "code",
   "execution_count": null,
   "metadata": {},
   "outputs": [],
   "source": [
    "for iter_ in cxx:\n",
    "eval#出现的是表达式"
   ]
  },
  {
   "cell_type": "markdown",
   "metadata": {},
   "source": [
    "##  其他random方法\n",
    "- random.random 返回0.0到1.0之间前闭后开区间的随机浮点\n",
    "- random.randrange(a,b) 前闭后开"
   ]
  },
  {
   "cell_type": "code",
   "execution_count": 13,
   "metadata": {},
   "outputs": [
    {
     "data": {
      "text/plain": [
       "0.17421812210190446"
      ]
     },
     "execution_count": 13,
     "metadata": {},
     "output_type": "execute_result"
    }
   ],
   "source": [
    "random.random()"
   ]
  },
  {
   "cell_type": "markdown",
   "metadata": {},
   "source": [
    "## EP：\n",
    "- 产生两个随机整数number1和number2，然后显示给用户，使用户输入数字的和，并判定其是否正确\n",
    "- 进阶:写一个随机序号点名程序"
   ]
  },
  {
   "cell_type": "code",
   "execution_count": 14,
   "metadata": {},
   "outputs": [
    {
     "name": "stdout",
     "output_type": "stream",
     "text": [
      "输入一个数字20\n",
      "错误\n"
     ]
    }
   ],
   "source": [
    "import random\n",
    "number1=random.randint(0,3)\n",
    "number2=random.randint(0,5)\n",
    "sum1=number1+number2\n",
    "sum2=(input('输入一个数字'))\n",
    "if sum1==sum2:\n",
    "    print('正确')\n",
    "else:\n",
    "    print('错误')"
   ]
  },
  {
   "cell_type": "code",
   "execution_count": 15,
   "metadata": {},
   "outputs": [
    {
     "name": "stdout",
     "output_type": "stream",
     "text": [
      "输入一个数字10\n",
      "错误\n"
     ]
    }
   ],
   "source": [
    "import random\n",
    "number1=random.randint(0,3)\n",
    "number2=random.randint(0,5)\n",
    "sum1=number1+number2\n",
    "sum2=(input('输入一个数字'))\n",
    "while 1:\n",
    "    if sum1==sum2:\n",
    "        print('正确')\n",
    "    else:\n",
    "        print('错误')\n",
    "        break"
   ]
  },
  {
   "cell_type": "markdown",
   "metadata": {},
   "source": [
    "## if语句\n",
    "- 如果条件正确就执行一个单向if语句，亦即当条件为真的时候才执行if内部的语句\n",
    "- Python有很多选择语句:\n",
    "> - 单向if \n",
    "  - 双向if-else\n",
    "  - 嵌套if\n",
    "  - 多向if-elif-else\n",
    "  \n",
    "- 注意：当语句含有子语句的时候，那么一定至少要有一个缩进，也就是说如果有儿子存在，那么一定要缩进\n",
    "- 切记不可tab键和space混用，单用tab 或者 space\n",
    "- 当你输出的结果是无论if是否为真时都需要显示时，语句应该与if对齐"
   ]
  },
  {
   "cell_type": "code",
   "execution_count": 16,
   "metadata": {},
   "outputs": [
    {
     "name": "stdout",
     "output_type": "stream",
     "text": [
      "请输入一个数10\n",
      "太大了\n",
      "不要灰心\n"
     ]
    }
   ],
   "source": [
    "b=eval(input('请输入一个数'))#逢冒号必缩\n",
    "if b>a:\n",
    "    print('太大了')\n",
    "if b<a:\n",
    "    print('太小了')\n",
    "if b==a:\n",
    "    print('正好')\n",
    "print('不要灰心')"
   ]
  },
  {
   "cell_type": "code",
   "execution_count": 17,
   "metadata": {},
   "outputs": [
    {
     "name": "stdout",
     "output_type": "stream",
     "text": [
      "年轻嘛{y/n}y\n",
      "帅否{y/n}y\n",
      "有没有老婆{y/n}n\n",
      "立马结婚\n"
     ]
    }
   ],
   "source": [
    "age=input('年轻嘛{y/n}')\n",
    "if age=='y':\n",
    "    handsome=input('帅否{y/n}')\n",
    "    if handsome=='y':\n",
    "        wife=input('有没有老婆{y/n}')\n",
    "        if wife=='y':\n",
    "            print('回家的诱惑')\n",
    "        else:\n",
    "            print('立马结婚')\n",
    "    else:\n",
    "        print('考虑一下')\n",
    "else:\n",
    "    print('拜拜')"
   ]
  },
  {
   "cell_type": "markdown",
   "metadata": {},
   "source": [
    "## EP：\n",
    "- 用户输入一个数字，判断其实奇数还是偶数\n",
    "- 进阶：可以查看下4.5实例研究猜生日"
   ]
  },
  {
   "cell_type": "markdown",
   "metadata": {},
   "source": [
    "## 双向if-else 语句\n",
    "- 如果条件为真，那么走if内部语句，否则走else内部语句"
   ]
  },
  {
   "cell_type": "markdown",
   "metadata": {},
   "source": [
    "## EP：\n",
    "- 产生两个随机整数number1和number2，然后显示给用户，使用户输入数字，并判定其是否正确,如果正确打印“you‘re correct”，否则打印正确错误"
   ]
  },
  {
   "cell_type": "markdown",
   "metadata": {},
   "source": [
    "## 嵌套if 和多向if-elif-else\n",
    "![](../Photo/35.png)"
   ]
  },
  {
   "cell_type": "markdown",
   "metadata": {},
   "source": [
    "## EP：\n",
    "- 提示用户输入一个年份，然后显示表示这一年的动物\n",
    "![](../Photo/36.png)\n",
    "- 计算身体质量指数的程序\n",
    "- BMI = 以千克为单位的体重除以以米为单位的身高的平方\n",
    "![](../Photo/37.png)"
   ]
  },
  {
   "cell_type": "code",
   "execution_count": 18,
   "metadata": {},
   "outputs": [
    {
     "name": "stdout",
     "output_type": "stream",
     "text": [
      "输入一个年份2014\n",
      "马\n"
     ]
    }
   ],
   "source": [
    "year=eval(input('输入一个年份'))\n",
    "if year%12==0:\n",
    "    res='猴'\n",
    "elif year%12==1:\n",
    "    res='鸡'\n",
    "elif year%12==2:\n",
    "    res='狗'\n",
    "elif year%12==3:\n",
    "    res='猪'\n",
    "elif year%12==4:\n",
    "    res='鼠'\n",
    "elif year%12==5:\n",
    "    res='牛'\n",
    "elif year%12==6:\n",
    "    res='虎'\n",
    "elif year%12==7:\n",
    "    res='兔'\n",
    "elif year%12==8:\n",
    "    res='龙'\n",
    "elif year%12==9:\n",
    "    res='蛇'\n",
    "elif year%12==10:\n",
    "    res='马'\n",
    "elif year%12==11:\n",
    "    res='羊'\n",
    "print(res)     "
   ]
  },
  {
   "cell_type": "code",
   "execution_count": 19,
   "metadata": {},
   "outputs": [
    {
     "name": "stdout",
     "output_type": "stream",
     "text": [
      "weight60\n",
      "high1.71\n",
      "标准\n"
     ]
    }
   ],
   "source": [
    "weight=eval(input('weight'))\n",
    "high=eval(input('high'))\n",
    "BMI=weight/(high*high)\n",
    "if BMI<18.5:\n",
    "    print('超轻')\n",
    "elif 18.5<=BMI<25.0:\n",
    "    print('标准')\n",
    "elif 25.0<=BMI<30.0:\n",
    "    print('超重')\n",
    "elif 30.0<=BMI:\n",
    "    print('痴肥')"
   ]
  },
  {
   "cell_type": "markdown",
   "metadata": {},
   "source": [
    "## 逻辑运算符\n",
    "![](../Photo/38.png)"
   ]
  },
  {
   "cell_type": "markdown",
   "metadata": {},
   "source": [
    "![](../Photo/39.png)\n",
    "![](../Photo/40.png)"
   ]
  },
  {
   "cell_type": "markdown",
   "metadata": {},
   "source": [
    "## EP：\n",
    "- 判定闰年：一个年份如果能被4整除但不能被100整除，或者能被400整除，那么这个年份就是闰年\n",
    "- 提示用户输入一个年份，并返回是否是闰年\n",
    "- 提示用户输入一个数字，判断其是否为水仙花数"
   ]
  },
  {
   "cell_type": "code",
   "execution_count": 20,
   "metadata": {},
   "outputs": [
    {
     "name": "stdout",
     "output_type": "stream",
     "text": [
      "year2014\n",
      "平年\n"
     ]
    }
   ],
   "source": [
    "year=eval(input('year'))\n",
    "if year % 4 ==0 and year % 100 !=0:\n",
    "    print(\"闰年\")\n",
    "elif year % 400 ==0:\n",
    "    print(\"闰年\")\n",
    "else:\n",
    "    print(\"平年\")"
   ]
  },
  {
   "cell_type": "code",
   "execution_count": 21,
   "metadata": {},
   "outputs": [
    {
     "name": "stdout",
     "output_type": "stream",
     "text": [
      ">>153\n",
      "是水仙花数\n"
     ]
    }
   ],
   "source": [
    "number=eval(input('>>'))\n",
    "bai=number//100\n",
    "shi=number//10%10\n",
    "ge=number%10\n",
    "if bai**3+shi**3+ge**3==number:\n",
    "    print('是水仙花数')\n",
    "else:\n",
    "    print('不是')"
   ]
  },
  {
   "cell_type": "markdown",
   "metadata": {},
   "source": [
    "## 实例研究：彩票\n",
    "![](../Photo/41.png)"
   ]
  },
  {
   "cell_type": "code",
   "execution_count": null,
   "metadata": {},
   "outputs": [],
   "source": [
    "import random\n",
    "number=random.randint(10,99)\n",
    "N=eval(input('>>'))\n",
    "number_shi=number//10\n",
    "number_ge=number%10\n",
    "N_shi=N//10\n",
    "N_ge=N%10\n",
    "if number==N:\n",
    "    print('10000美元')\n",
    "#elif (number_shi==N_ge or number_shi==N_ge) and (number_ge==N_shi or number_ge==N_shi):\n",
    "elif (number_ge+number_shi==N_ge+N_shi):\n",
    "    print('3000美元')\n",
    "elif (number_ge==N_ge or number_ge==N_shi) or(number_shi==N_ge or number_shi==N_shi):\n",
    "    print('1000美元')"
   ]
  },
  {
   "cell_type": "markdown",
   "metadata": {},
   "source": [
    "# Homework\n",
    "- 1\n",
    "![](../Photo/42.png)"
   ]
  },
  {
   "cell_type": "code",
   "execution_count": 4,
   "metadata": {},
   "outputs": [
    {
     "name": "stdout",
     "output_type": "stream",
     "text": [
      ">>2\n",
      ">>5\n",
      ">>1\n",
      "-9.123105625617661\n"
     ]
    }
   ],
   "source": [
    "a=eval(input('>>'))\n",
    "b=eval(input('>>'))\n",
    "c=eval(input('>>'))\n",
    "r1=-b+pow(b**2-4*a*c,1/2)/2*a\n",
    "r2=-b-pow(b**2-4*a*c,1/2)/2*a\n",
    "if b**2-4*a*c>0:\n",
    "    print(r1 and r2)\n",
    "elif b**2-4*a*c==0:\n",
    "    print(r1 or r2)\n",
    "elif  b**2-4*a*c<0:\n",
    "    print('The equation has no real roots')"
   ]
  },
  {
   "cell_type": "markdown",
   "metadata": {},
   "source": [
    "- 2\n",
    "![](../Photo/43.png)"
   ]
  },
  {
   "cell_type": "code",
   "execution_count": 8,
   "metadata": {},
   "outputs": [
    {
     "name": "stdout",
     "output_type": "stream",
     "text": [
      "输入整数的和25\n",
      "假\n"
     ]
    }
   ],
   "source": [
    "import random\n",
    "number1=random.randint(0,99)\n",
    "number2=random.randint(0,99)\n",
    "sum=eval(input('输入整数的和'))\n",
    "if sum==number1+number2:\n",
    "    print('真')\n",
    "else:\n",
    "    print('假')"
   ]
  },
  {
   "cell_type": "markdown",
   "metadata": {},
   "source": [
    "- 3\n",
    "![](../Photo/44.png)"
   ]
  },
  {
   "cell_type": "code",
   "execution_count": 20,
   "metadata": {},
   "outputs": [
    {
     "name": "stdout",
     "output_type": "stream",
     "text": [
      ">>2\n",
      ">>4\n",
      "Today is 2 and the future day is Saturday\n"
     ]
    }
   ],
   "source": [
    "day=eval(input('>>'))\n",
    "day1=eval(input('>>'))\n",
    "day2=(day+day1)%7\n",
    "if day2==0:\n",
    "    print('Today is',day,'and the future day is Sunday')\n",
    "elif day2==1:\n",
    "    print('Today is',day,'and the future day is Monday')\n",
    "elif day2==2:\n",
    "    print('Today is',day,'and the future day is Tuesday')\n",
    "elif day2==3:\n",
    "    print('Today is',day,'and the future day is Wednesday')\n",
    "elif day2==4:\n",
    "    print('Today is',day,'and the future day is Thursday')\n",
    "elif day2==5:\n",
    "    print('Today is',day,'and the future day is Friday')\n",
    "elif day2==6:\n",
    "    print('Today is',day,'and the future day is Saturday')"
   ]
  },
  {
   "cell_type": "markdown",
   "metadata": {},
   "source": [
    "- 4\n",
    "![](../Photo/45.png)"
   ]
  },
  {
   "cell_type": "code",
   "execution_count": 3,
   "metadata": {},
   "outputs": [
    {
     "name": "stdout",
     "output_type": "stream",
     "text": [
      ">>1\n",
      ">>5\n",
      ">>3\n",
      "1 3 5\n"
     ]
    }
   ],
   "source": [
    "number1=eval(input('>>'))\n",
    "number2=eval(input('>>'))\n",
    "number3=eval(input('>>'))\n",
    "if number1>number2:\n",
    "    number1,number2=number2,number1\n",
    "elif number1>number3:\n",
    "    number1,number3=number3,number1\n",
    "elif number2>number3:\n",
    "    number2,number3=number3,number2\n",
    "print(number1,number2,number3)"
   ]
  },
  {
   "cell_type": "markdown",
   "metadata": {},
   "source": [
    "- 5\n",
    "![](../Photo/46.png)"
   ]
  },
  {
   "cell_type": "code",
   "execution_count": 4,
   "metadata": {},
   "outputs": [
    {
     "name": "stdout",
     "output_type": "stream",
     "text": [
      "输入包1的重量和价钱：50,24.59\n",
      "输入包2的重量和价钱：25,11.99\n",
      "Package2 has the better price\n"
     ]
    }
   ],
   "source": [
    "weight1,price1 = eval(input('输入包1的重量和价钱：'))\n",
    "weight2,price2 = eval(input('输入包2的重量和价钱：'))\n",
    "per1 = price1 / weight1\n",
    "per2 = price2 / weight2\n",
    "per = per1 or per2\n",
    "if per1 > per2 or per2 > per1:\n",
    "    print('Package2 has the better price' or 'Package2 has the better price')"
   ]
  },
  {
   "cell_type": "markdown",
   "metadata": {},
   "source": [
    "- 6\n",
    "![](../Photo/47.png)"
   ]
  },
  {
   "cell_type": "code",
   "execution_count": 4,
   "metadata": {},
   "outputs": [
    {
     "name": "stdout",
     "output_type": "stream",
     "text": [
      "输入月份,输入年份：12,2012\n",
      "2012 年是闰年\n",
      "这个月有31天\n"
     ]
    }
   ],
   "source": [
    "mon,year = eval(input('输入月份,输入年份：'))\n",
    "if (year % 100 !=0 and year % 4==0 or year % 400==0):\n",
    "    print(year,'年是闰年')\n",
    "else:\n",
    "    print(year,'年是平年')\n",
    "if mon in (1,3,5,7,8,10,12):\n",
    "    print('这个月有31天')\n",
    "elif mon == 2:\n",
    "    print('29天')\n",
    "else:\n",
    "    print('28天')\n",
    "    print('30天')"
   ]
  },
  {
   "cell_type": "markdown",
   "metadata": {},
   "source": [
    "- 7\n",
    "![](../Photo/48.png)"
   ]
  },
  {
   "cell_type": "code",
   "execution_count": 5,
   "metadata": {},
   "outputs": [
    {
     "name": "stdout",
     "output_type": "stream",
     "text": [
      "输入一个猜测值：2\n"
     ]
    }
   ],
   "source": [
    "a = 1\n",
    "b = 0\n",
    "c = eval(input('输入一个猜测值：'))\n",
    "if c == a:\n",
    "    print(\"正确\")\n",
    "if c == b:\n",
    "    print(\"错误\")"
   ]
  },
  {
   "cell_type": "markdown",
   "metadata": {},
   "source": [
    "- 8\n",
    "![](../Photo/49.png)"
   ]
  },
  {
   "cell_type": "code",
   "execution_count": 6,
   "metadata": {},
   "outputs": [
    {
     "name": "stdout",
     "output_type": "stream",
     "text": [
      "scissor(0),rock(1),paper(2):2\n",
      "The computer is paper.You are paper too.It is a draw\n"
     ]
    }
   ],
   "source": [
    "s = 0\n",
    "r = 1\n",
    "p = 2\n",
    "a = eval(input('scissor(0),rock(1),paper(2):'))\n",
    "if a == s:\n",
    "    print('The computer is paper.You are scissor.The computer won'or 'The computer is scissor.You are scissor too.It is a draw.'or 'The computer is rock.You are scissor.The computer won')\n",
    "elif a == r:\n",
    "    print('The computer is paper.You are rock.The computer won'or 'The computer is scissor.You are rock.You won.'or 'The computer is rock.You are rock too.It is a draw')\n",
    "elif a == p:\n",
    "    print('The computer is paper.You are paper too.It is a draw'or 'The computer is scissor.You are paper.The computer won.'or 'The computer is rock.You are paper.You won')"
   ]
  },
  {
   "cell_type": "markdown",
   "metadata": {},
   "source": [
    "- 9\n",
    "![](../Photo/50.png)"
   ]
  },
  {
   "cell_type": "code",
   "execution_count": 1,
   "metadata": {},
   "outputs": [
    {
     "name": "stdout",
     "output_type": "stream",
     "text": [
      ">>2013\n",
      ">>1\n",
      ">>25\n"
     ]
    },
    {
     "ename": "TypeError",
     "evalue": "unsupported operand type(s) for +: 'int' and 'list'",
     "output_type": "error",
     "traceback": [
      "\u001b[1;31m---------------------------------------------------------------------------\u001b[0m",
      "\u001b[1;31mTypeError\u001b[0m                                 Traceback (most recent call last)",
      "\u001b[1;32m<ipython-input-1-5fdfb79d1e84>\u001b[0m in \u001b[0;36m<module>\u001b[1;34m\u001b[0m\n\u001b[0;32m      4\u001b[0m \u001b[0mj\u001b[0m\u001b[1;33m=\u001b[0m\u001b[0myear\u001b[0m\u001b[1;33m/\u001b[0m\u001b[1;36m100\u001b[0m\u001b[1;33m\u001b[0m\u001b[1;33m\u001b[0m\u001b[0m\n\u001b[0;32m      5\u001b[0m \u001b[0mk\u001b[0m\u001b[1;33m=\u001b[0m\u001b[0myear\u001b[0m\u001b[1;33m%\u001b[0m\u001b[1;36m100\u001b[0m\u001b[1;33m\u001b[0m\u001b[1;33m\u001b[0m\u001b[0m\n\u001b[1;32m----> 6\u001b[1;33m \u001b[0mh\u001b[0m\u001b[1;33m=\u001b[0m\u001b[1;33m(\u001b[0m\u001b[0mq\u001b[0m\u001b[1;33m+\u001b[0m\u001b[1;33m[\u001b[0m\u001b[1;36m26\u001b[0m\u001b[1;33m*\u001b[0m\u001b[1;33m(\u001b[0m\u001b[0mm\u001b[0m\u001b[1;33m+\u001b[0m\u001b[1;36m1\u001b[0m\u001b[1;33m)\u001b[0m\u001b[1;33m/\u001b[0m\u001b[1;36m10\u001b[0m\u001b[1;33m]\u001b[0m\u001b[1;33m+\u001b[0m\u001b[0mk\u001b[0m\u001b[1;33m+\u001b[0m\u001b[1;33m(\u001b[0m\u001b[0mk\u001b[0m\u001b[1;33m/\u001b[0m\u001b[1;36m4\u001b[0m\u001b[1;33m)\u001b[0m\u001b[1;33m+\u001b[0m\u001b[1;33m(\u001b[0m\u001b[0mj\u001b[0m\u001b[1;33m/\u001b[0m\u001b[1;36m4\u001b[0m\u001b[1;33m)\u001b[0m\u001b[1;33m+\u001b[0m\u001b[1;36m5\u001b[0m\u001b[1;33m*\u001b[0m\u001b[0mj\u001b[0m\u001b[1;33m)\u001b[0m\u001b[1;33m%\u001b[0m\u001b[1;36m7\u001b[0m\u001b[1;33m\u001b[0m\u001b[1;33m\u001b[0m\u001b[0m\n\u001b[0m\u001b[0;32m      7\u001b[0m \u001b[0minput\u001b[0m\u001b[1;33m(\u001b[0m\u001b[0mh\u001b[0m\u001b[1;33m)\u001b[0m\u001b[1;33m\u001b[0m\u001b[1;33m\u001b[0m\u001b[0m\n",
      "\u001b[1;31mTypeError\u001b[0m: unsupported operand type(s) for +: 'int' and 'list'"
     ]
    }
   ],
   "source": [
    "year=eval(input('>>'))\n",
    "m=eval(input('>>'))\n",
    "q=eval(input('>>'))\n",
    "j=year/100\n",
    "k=year%100\n",
    "h=(q+[26*(m+1)/10]+k+(k/4)+(j/4)+5*j)%7\n",
    "input(h)"
   ]
  },
  {
   "cell_type": "markdown",
   "metadata": {},
   "source": [
    "- 10\n",
    "![](../Photo/51.png)"
   ]
  },
  {
   "cell_type": "code",
   "execution_count": null,
   "metadata": {},
   "outputs": [],
   "source": [
    "a = 'Ace'\n",
    "b = 2\n",
    "c = 3\n",
    "d = 4\n",
    "e = 5\n",
    "f = 6\n",
    "g = 7\n",
    "h = 8\n",
    "i = 9\n",
    "k = 10\n",
    "l = str('Jack')\n",
    "m = str('Queen')\n",
    "n = str('King')\n",
    "o = str('meihua')\n",
    "p = str('hongtao')\n",
    "q = str('fangkuai')\n",
    "r = str('heitao')\n",
    "s = str(input('请选出一张牌：'))\n",
    "if s==a or s==b or s==c or s==d or s==e or s==f or s==g or s==h or s==i:\n",
    "    print('The card you picked is the',a or b or c or d or e or f or g or h or i)"
   ]
  },
  {
   "cell_type": "markdown",
   "metadata": {},
   "source": [
    "- 11\n",
    "![](../Photo/52.png)"
   ]
  },
  {
   "cell_type": "code",
   "execution_count": 7,
   "metadata": {},
   "outputs": [
    {
     "name": "stdout",
     "output_type": "stream",
     "text": [
      "输入一个数：2\n",
      "2 是回文数\n"
     ]
    }
   ],
   "source": [
    "num = int(eval(input('输入一个数：')))\n",
    "num = str(num)\n",
    "if num [:]== num [::-1]:\n",
    "    print(num,'是回文数')\n",
    "else:\n",
    "    print(num,'不是回文数')"
   ]
  },
  {
   "cell_type": "markdown",
   "metadata": {},
   "source": [
    "- 12\n",
    "![](../Photo/53.png)"
   ]
  },
  {
   "cell_type": "code",
   "execution_count": 8,
   "metadata": {},
   "outputs": [
    {
     "name": "stdout",
     "output_type": "stream",
     "text": [
      "输入三边的长度：2,1,4\n",
      "这个输入是非法的\n"
     ]
    }
   ],
   "source": [
    "a,b,c = eval(input(\"输入三边的长度：\"))\n",
    "d = a+b+c\n",
    "if (a+b>c and a+c>b and b+c>a):\n",
    "    print('The perimeter is:',d)\n",
    "else:\n",
    "    print('这个输入是非法的')"
   ]
  },
  {
   "cell_type": "code",
   "execution_count": null,
   "metadata": {},
   "outputs": [],
   "source": []
  }
 ],
 "metadata": {
  "kernelspec": {
   "display_name": "Python 3",
   "language": "python",
   "name": "python3"
  }
 },
 "nbformat": 4,
 "nbformat_minor": 2
}
