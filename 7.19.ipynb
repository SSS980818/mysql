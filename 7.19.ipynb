{
 "cells": [
  {
   "cell_type": "markdown",
   "metadata": {},
   "source": [
    "# 循环\n",
    "- 循环是一种控制语句块重复执行的结构\n",
    "- while  适用于广度遍历\n",
    "- for    开发中经常使用"
   ]
  },
  {
   "cell_type": "markdown",
   "metadata": {},
   "source": [
    "## while 循环\n",
    "- 当一个条件保持真的时候while循环重复执行语句\n",
    "- while 循环一定要有结束条件，否则很容易进入死循环\n",
    "- while 循环的语法是：\n",
    "\n",
    "    while loop-contunuation-conndition:\n",
    "\n",
    "        Statement"
   ]
  },
  {
   "cell_type": "markdown",
   "metadata": {},
   "source": [
    "## 示例：\n",
    "sum = 0\n",
    "\n",
    "i = 1\n",
    "\n",
    "while i <10:\n",
    "\n",
    "    sum = sum + i\n",
    "    i = i + 1"
   ]
  },
  {
   "cell_type": "markdown",
   "metadata": {},
   "source": [
    "## 错误示例：\n",
    "sum = 0\n",
    "\n",
    "i = 1\n",
    "\n",
    "while i <10:\n",
    "\n",
    "    sum = sum + i\n",
    "\n",
    "i = i + 1\n",
    "- 一旦进入死循环可按 Ctrl + c 停止"
   ]
  },
  {
   "cell_type": "code",
   "execution_count": null,
   "metadata": {},
   "outputs": [],
   "source": [
    "import os\n",
    "i = 0\n",
    "while 1:\n",
    "    os.system('calc')"
   ]
  },
  {
   "cell_type": "code",
   "execution_count": 1,
   "metadata": {},
   "outputs": [
    {
     "name": "stdout",
     "output_type": "stream",
     "text": [
      "今天天气好晴朗\n",
      "今天天气好晴朗\n",
      "今天天气好晴朗\n",
      "今天天气好晴朗\n",
      "今天天气好晴朗\n",
      "今天天气好晴朗\n",
      "今天天气好晴朗\n",
      "今天天气好晴朗\n",
      "今天天气好晴朗\n",
      "今天天气好晴朗\n"
     ]
    }
   ],
   "source": [
    "i=0\n",
    "while i < 10:\n",
    "    print('今天天气好晴朗')\n",
    "    i +=1"
   ]
  },
  {
   "cell_type": "markdown",
   "metadata": {},
   "source": [
    "## EP：\n",
    "![](../Photo/143.png)\n",
    "![](../Photo/144.png)"
   ]
  },
  {
   "cell_type": "markdown",
   "metadata": {},
   "source": [
    "# 验证码\n",
    "- 随机产生四个字母的验证码，如果正确，输出验证码正确。如果错误，产生新的验证码，用户重新输入。\n",
    "- 验证码只能输入三次，如果三次都错，返回“别爬了，我们小网站没什么好爬的”\n",
    "- 密码登录，如果三次错误，账号被锁定\n"
   ]
  },
  {
   "cell_type": "code",
   "execution_count": 17,
   "metadata": {},
   "outputs": [
    {
     "ename": "SyntaxError",
     "evalue": "'break' outside loop (<ipython-input-17-7052fa8f19f2>, line 11)",
     "output_type": "error",
     "traceback": [
      "\u001b[1;36m  File \u001b[1;32m\"<ipython-input-17-7052fa8f19f2>\"\u001b[1;36m, line \u001b[1;32m11\u001b[0m\n\u001b[1;33m    print('验证码输入错误')\u001b[0m\n\u001b[1;37m           ^\u001b[0m\n\u001b[1;31mSyntaxError\u001b[0m\u001b[1;31m:\u001b[0m 'break' outside loop\n"
     ]
    }
   ],
   "source": [
    "import random\n",
    "yanzhemgma=random.randint(1000,9999)\n",
    "print('验证码为',yanzhengma)\n",
    "me=eval(input('输入四个数字的验证码'))\n",
    "\n",
    "if me == yanzhengma:\n",
    "    print('验证码输入正确')\n",
    "    break\n",
    "    print(',,,')#如果break了，则break之后的代码都不运行\n",
    "else:\n",
    "    print('验证码输入错误')"
   ]
  },
  {
   "cell_type": "code",
   "execution_count": null,
   "metadata": {},
   "outputs": [
    {
     "name": "stdout",
     "output_type": "stream",
     "text": [
      "验证码是 svzn\n",
      "输入验证码njgd\n",
      "验证码错误\n",
      "验证码是 bqku\n"
     ]
    }
   ],
   "source": [
    "while True:\n",
    "    n1=chr(random.randint(97,122))\n",
    "    n2=chr(random.randint(97,122))\n",
    "    n3=chr(random.randint(97,122))\n",
    "    n4=chr(random.randint(97,122))\n",
    "    N=n1 + n2 + n3 + n4\n",
    "    print('验证码是',N)\n",
    "    me=input('输入验证码')\n",
    "    \n",
    "    if me==N:\n",
    "        print('验证码正确')\n",
    "        break\n",
    "    else:\n",
    "        print('验证码错误')"
   ]
  },
  {
   "cell_type": "code",
   "execution_count": null,
   "metadata": {},
   "outputs": [
    {
     "name": "stdout",
     "output_type": "stream",
     "text": [
      "验证码是 ydbI\n"
     ]
    }
   ],
   "source": [
    "while True:\n",
    "    n1=chr(random.randint(65,90))\n",
    "    n2=chr(random.randint(97,122))\n",
    "    n3=chr(random.randint(97,122))\n",
    "    n4=chr(random.randint(97,122))\n",
    "    shuffle_n=[n1,n2,n3,n4]\n",
    "    random.shuffle(shuffle_n)\n",
    "    N=\"\".join(shuffle_n)\n",
    "    print('验证码是',N)\n",
    "    me=input('输入验证码')\n",
    "    \n",
    "    if me==N:\n",
    "        print('验证码正确')\n",
    "        break\n",
    "    else:\n",
    "        print('验证码错误')"
   ]
  },
  {
   "cell_type": "code",
   "execution_count": 2,
   "metadata": {},
   "outputs": [
    {
     "name": "stdout",
     "output_type": "stream",
     "text": [
      "验证码是 Grqx\n",
      "输入验证码Grqx\n",
      "验证码正确\n"
     ]
    }
   ],
   "source": [
    "import random\n",
    "while True:\n",
    "    n1=chr(random.randint(65,90))\n",
    "    n2=chr(random.randint(97,122))\n",
    "    n3=chr(random.randint(97,122))\n",
    "    n4=chr(random.randint(97,122))\n",
    "    shuffle_n=[n1,n2,n3,n4]\n",
    "    random.shuffle(shuffle_n) \n",
    "    N=\"\".join(shuffle_n)\n",
    "    print('验证码是',N)\n",
    "    me=input('输入验证码')\n",
    "    \n",
    "    if me.lower()==N.lower():\n",
    "        print('验证码正确')\n",
    "        break\n",
    "    else:\n",
    "        print('验证码错误')"
   ]
  },
  {
   "cell_type": "code",
   "execution_count": 3,
   "metadata": {},
   "outputs": [
    {
     "ename": "TypeError",
     "evalue": "'module' object is not callable",
     "output_type": "error",
     "traceback": [
      "\u001b[1;31m---------------------------------------------------------------------------\u001b[0m",
      "\u001b[1;31mTypeError\u001b[0m                                 Traceback (most recent call last)",
      "\u001b[1;32m<ipython-input-3-581e8879df57>\u001b[0m in \u001b[0;36m<module>\u001b[1;34m\u001b[0m\n\u001b[0;32m      1\u001b[0m \u001b[1;32mimport\u001b[0m \u001b[0mrandom\u001b[0m\u001b[1;33m\u001b[0m\u001b[1;33m\u001b[0m\u001b[0m\n\u001b[0;32m      2\u001b[0m \u001b[1;32mwhile\u001b[0m \u001b[1;32mTrue\u001b[0m\u001b[1;33m:\u001b[0m\u001b[1;33m\u001b[0m\u001b[1;33m\u001b[0m\u001b[0m\n\u001b[1;32m----> 3\u001b[1;33m     \u001b[0mchoose\u001b[0m \u001b[1;33m=\u001b[0m \u001b[0mrandom\u001b[0m\u001b[1;33m(\u001b[0m\u001b[1;36m0\u001b[0m\u001b[1;33m,\u001b[0m\u001b[1;36m1\u001b[0m\u001b[1;33m)\u001b[0m\u001b[1;33m\u001b[0m\u001b[1;33m\u001b[0m\u001b[0m\n\u001b[0m\u001b[0;32m      4\u001b[0m     \u001b[0mlist_\u001b[0m\u001b[1;33m=\u001b[0m\u001b[1;33m[\u001b[0m\u001b[1;33m[\u001b[0m\u001b[1;36m65\u001b[0m\u001b[1;33m,\u001b[0m\u001b[1;36m90\u001b[0m\u001b[1;33m]\u001b[0m\u001b[1;33m,\u001b[0m\u001b[1;33m[\u001b[0m\u001b[1;36m97\u001b[0m\u001b[1;33m,\u001b[0m\u001b[1;36m122\u001b[0m\u001b[1;33m]\u001b[0m\u001b[1;33m]\u001b[0m\u001b[1;33m\u001b[0m\u001b[1;33m\u001b[0m\u001b[0m\n\u001b[0;32m      5\u001b[0m     \u001b[0mprint\u001b[0m\u001b[1;33m(\u001b[0m\u001b[1;34m'验证码是'\u001b[0m\u001b[1;33m,\u001b[0m\u001b[0mN\u001b[0m\u001b[1;33m)\u001b[0m\u001b[1;33m\u001b[0m\u001b[1;33m\u001b[0m\u001b[0m\n",
      "\u001b[1;31mTypeError\u001b[0m: 'module' object is not callable"
     ]
    }
   ],
   "source": [
    "import random\n",
    "while True:\n",
    "    choose = random(0,1)\n",
    "    list_=[[65,90],[97,122]]\n",
    "    print('验证码是',N)\n",
    "    me=input('输入验证码')\n",
    "    \n",
    "    if me.lower()==N.lower():\n",
    "        print('验证码正确')\n",
    "        break\n",
    "    else:\n",
    "        print('验证码错误')"
   ]
  },
  {
   "cell_type": "code",
   "execution_count": 3,
   "metadata": {},
   "outputs": [],
   "source": [
    "import random\n",
    "a=[1,2,3,4,5]\n",
    "random.shuffle(a)  #随机打乱"
   ]
  },
  {
   "cell_type": "code",
   "execution_count": 4,
   "metadata": {},
   "outputs": [
    {
     "data": {
      "text/plain": [
       "[4, 5, 1, 3, 2]"
      ]
     },
     "execution_count": 4,
     "metadata": {},
     "output_type": "execute_result"
    }
   ],
   "source": [
    "a"
   ]
  },
  {
   "cell_type": "code",
   "execution_count": 2,
   "metadata": {},
   "outputs": [
    {
     "name": "stdout",
     "output_type": "stream",
     "text": [
      "验证码是 drkl\n",
      "输入验证码drkL\n",
      "验证码正确\n"
     ]
    }
   ],
   "source": [
    "import random\n",
    "while True:\n",
    "    choose = random.randint(0,1)\n",
    "    list_=[[65,90],[97,122]]\n",
    "    range_=list_[choose]\n",
    "    N=\"\"\n",
    "    for i in range(4):\n",
    "        N+=chr(random.randint(range_[0],range_[1]))\n",
    "    print('验证码是',N)\n",
    "    me=input('输入验证码')\n",
    "    if me.lower()==N.lower():\n",
    "        print('验证码正确')\n",
    "        break\n",
    "    else:\n",
    "        print('验证码正确')"
   ]
  },
  {
   "cell_type": "markdown",
   "metadata": {},
   "source": [
    "## 尝试死循环"
   ]
  },
  {
   "cell_type": "markdown",
   "metadata": {},
   "source": [
    "## 实例研究：猜数字\n",
    "- 你将要编写一个能够随机生成一个0到10之间的且包括两者的数字程序，这个程序\n",
    "- 提示用户连续地输入数字直到正确，且提示用户输入的数字是过高还是过低"
   ]
  },
  {
   "cell_type": "code",
   "execution_count": null,
   "metadata": {},
   "outputs": [],
   "source": [
    "import random\n",
    "while 1:\n",
    "    N1 = random.randint(0,10)\n",
    "    N2 = random.randint(0,10)\n",
    "    input_ = eval(input('Sum'))\n",
    "    if N1 + N2==input_:\n",
    "        print('Correct!!')\n",
    "        break"
   ]
  },
  {
   "cell_type": "markdown",
   "metadata": {},
   "source": [
    "## 使用哨兵值来控制循环\n",
    "- 哨兵值来表明输入的结束\n",
    "- ![](../Photo/54.png)"
   ]
  },
  {
   "cell_type": "code",
   "execution_count": null,
   "metadata": {},
   "outputs": [],
   "source": []
  },
  {
   "cell_type": "markdown",
   "metadata": {},
   "source": [
    "## 警告\n",
    "![](../Photo/55.png)"
   ]
  },
  {
   "cell_type": "markdown",
   "metadata": {},
   "source": [
    "## for 循环\n",
    "- Python的for 循环通过一个序列中的每个值来进行迭代\n",
    "- range(a,b,k)， a，b，k 必须为整数\n",
    "- a: start\n",
    "- b: end\n",
    "- k: step\n",
    "- 注意for 是循环一切可迭代对象，而不是只能使用range"
   ]
  },
  {
   "cell_type": "code",
   "execution_count": 6,
   "metadata": {},
   "outputs": [
    {
     "name": "stdout",
     "output_type": "stream",
     "text": [
      "10\n",
      "9\n",
      "8\n",
      "7\n",
      "6\n",
      "5\n",
      "4\n",
      "3\n",
      "2\n",
      "1\n"
     ]
    }
   ],
   "source": [
    "#次数\n",
    "for i in range(10,0,-1):\n",
    "    print(i)"
   ]
  },
  {
   "cell_type": "code",
   "execution_count": 7,
   "metadata": {},
   "outputs": [
    {
     "name": "stdout",
     "output_type": "stream",
     "text": [
      "0\n",
      "2\n",
      "4\n",
      "6\n",
      "8\n"
     ]
    }
   ],
   "source": [
    "for i in range(0,10,2):\n",
    "    print(i)"
   ]
  },
  {
   "cell_type": "code",
   "execution_count": 2,
   "metadata": {},
   "outputs": [
    {
     "data": {
      "text/plain": [
       "<range_iterator at 0x19f2cd90490>"
      ]
     },
     "execution_count": 2,
     "metadata": {},
     "output_type": "execute_result"
    }
   ],
   "source": [
    "range(10).__iter__()#可迭代   才能用for循环"
   ]
  },
  {
   "cell_type": "code",
   "execution_count": 3,
   "metadata": {},
   "outputs": [
    {
     "data": {
      "text/plain": [
       "<method-wrapper '__iter__' of list object at 0x0000019F2CCD4C88>"
      ]
     },
     "execution_count": 3,
     "metadata": {},
     "output_type": "execute_result"
    }
   ],
   "source": [
    "a = []\n",
    "a.__iter__"
   ]
  },
  {
   "cell_type": "markdown",
   "metadata": {},
   "source": [
    "# 在Python里面一切皆对象"
   ]
  },
  {
   "cell_type": "markdown",
   "metadata": {},
   "source": [
    "## EP:\n",
    "- ![](../Photo/145.png)"
   ]
  },
  {
   "cell_type": "code",
   "execution_count": 11,
   "metadata": {},
   "outputs": [
    {
     "name": "stdout",
     "output_type": "stream",
     "text": [
      "142\n",
      "10011\n"
     ]
    }
   ],
   "source": [
    "i = 1\n",
    "sum_ = 0\n",
    "while sum_<10000:\n",
    "    sum_ = sum_ + i\n",
    "    i+= 1\n",
    "print(i)\n",
    "print(sum_)"
   ]
  },
  {
   "cell_type": "code",
   "execution_count": 19,
   "metadata": {},
   "outputs": [
    {
     "name": "stdout",
     "output_type": "stream",
     "text": [
      "10011\n",
      "141\n"
     ]
    }
   ],
   "source": [
    "\n",
    "sum_ = 0\n",
    "for i in range(1,10000):\n",
    "    sum_= sum_ + i\n",
    "    if sum_>10000:\n",
    "        break\n",
    "print(sum_)\n",
    "print(i)"
   ]
  },
  {
   "cell_type": "code",
   "execution_count": 6,
   "metadata": {},
   "outputs": [
    {
     "name": "stdout",
     "output_type": "stream",
     "text": [
      "1001\n"
     ]
    }
   ],
   "source": [
    "sum_= 0\n",
    "for i in range(1001):\n",
    "    sum_ = sum_ + 1\n",
    "print(sum_)"
   ]
  },
  {
   "cell_type": "code",
   "execution_count": 4,
   "metadata": {},
   "outputs": [
    {
     "name": "stdout",
     "output_type": "stream",
     "text": [
      "1001\n"
     ]
    }
   ],
   "source": [
    "sum_ = 0\n",
    "while sum_ < 1001:\n",
    "    sum_+= 1\n",
    "print(sum_)"
   ]
  },
  {
   "cell_type": "markdown",
   "metadata": {},
   "source": [
    "## 嵌套循环\n",
    "- 一个循环可以嵌套另一个循环\n",
    "- 每次循环外层时，内层循环都会被刷新重新完成循环\n",
    "- 也就是说，大循环执行一次，小循环会全部执行一次\n",
    "- 注意：\n",
    "> - 多层循环非常耗时\n",
    "  - 最多使用3层循环"
   ]
  },
  {
   "cell_type": "markdown",
   "metadata": {},
   "source": [
    "## EP：\n",
    "- 使用多层循环完成9X9乘法表\n",
    "- 显示50以内所有的素数"
   ]
  },
  {
   "cell_type": "code",
   "execution_count": 48,
   "metadata": {},
   "outputs": [
    {
     "name": "stdout",
     "output_type": "stream",
     "text": [
      "1*1=1 \n",
      "1*2=2 2*2=4 \n",
      "1*3=3 2*3=6 3*3=9 \n",
      "1*4=4 2*4=8 3*4=12 4*4=16 \n",
      "1*5=5 2*5=10 3*5=15 4*5=20 5*5=25 \n",
      "1*6=6 2*6=12 3*6=18 4*6=24 5*6=30 6*6=36 \n",
      "1*7=7 2*7=14 3*7=21 4*7=28 5*7=35 6*7=42 7*7=49 \n",
      "1*8=8 2*8=16 3*8=24 4*8=32 5*8=40 6*8=48 7*8=56 8*8=64 \n",
      "1*9=9 2*9=18 3*9=27 4*9=36 5*9=45 6*9=54 7*9=63 8*9=72 9*9=81 \n"
     ]
    }
   ],
   "source": [
    "for i in range(1,10):\n",
    "    for j in range(1,i+1):\n",
    "        print('%d*%d=%d'%(j,i,i*j),end=\" \")\n",
    "    print()"
   ]
  },
  {
   "cell_type": "code",
   "execution_count": 49,
   "metadata": {},
   "outputs": [
    {
     "name": "stdout",
     "output_type": "stream",
     "text": [
      "[3, 5, 5, 5, 7, 7, 7, 7, 7, 9, 11, 11, 11, 11, 11, 11, 11, 11, 11, 13, 13, 13, 13, 13, 13, 13, 13, 13, 13, 13, 15, 17, 17, 17, 17, 17, 17, 17, 17, 17, 17, 17, 17, 17, 17, 17, 19, 19, 19, 19, 19, 19, 19, 19, 19, 19, 19, 19, 19, 19, 19, 19, 19, 21, 23, 23, 23, 23, 23, 23, 23, 23, 23, 23, 23, 23, 23, 23, 23, 23, 23, 23, 23, 23, 23, 25, 25, 25, 27, 29, 29, 29, 29, 29, 29, 29, 29, 29, 29, 29, 29, 29, 29, 29, 29, 29, 29, 29, 29, 29, 29, 29, 29, 29, 29, 29, 31, 31, 31, 31, 31, 31, 31, 31, 31, 31, 31, 31, 31, 31, 31, 31, 31, 31, 31, 31, 31, 31, 31, 31, 31, 31, 31, 31, 31, 33, 35, 35, 35, 37, 37, 37, 37, 37, 37, 37, 37, 37, 37, 37, 37, 37, 37, 37, 37, 37, 37, 37, 37, 37, 37, 37, 37, 37, 37, 37, 37, 37, 37, 37, 37, 37, 37, 37, 39, 41, 41, 41, 41, 41, 41, 41, 41, 41, 41, 41, 41, 41, 41, 41, 41, 41, 41, 41, 41, 41, 41, 41, 41, 41, 41, 41, 41, 41, 41, 41, 41, 41, 41, 41, 41, 41, 41, 41, 43, 43, 43, 43, 43, 43, 43, 43, 43, 43, 43, 43, 43, 43, 43, 43, 43, 43, 43, 43, 43, 43, 43, 43, 43, 43, 43, 43, 43, 43, 43, 43, 43, 43, 43, 43, 43, 43, 43, 43, 43, 45, 47, 47, 47, 47, 47, 47, 47, 47, 47, 47, 47, 47, 47, 47, 47, 47, 47, 47, 47, 47, 47, 47, 47, 47, 47, 47, 47, 47, 47, 47, 47, 47, 47, 47, 47, 47, 47, 47, 47, 47, 47, 47, 47, 47, 47, 49, 49, 49, 49, 49]\n"
     ]
    }
   ],
   "source": [
    "list = []\n",
    "for i in range(2,50):\n",
    "    if i < 2:\n",
    "        continue\n",
    "    for j in range(2,i):\n",
    "        if i % j == 0:\n",
    "            break\n",
    "        else:\n",
    "            list.append(i) \n",
    "print(list)"
   ]
  },
  {
   "cell_type": "code",
   "execution_count": null,
   "metadata": {},
   "outputs": [],
   "source": []
  },
  {
   "cell_type": "markdown",
   "metadata": {},
   "source": [
    "## 关键字 break 和 continue\n",
    "- break 跳出循环，终止循环\n",
    "- continue 跳出此次循环，继续执行"
   ]
  },
  {
   "cell_type": "code",
   "execution_count": 20,
   "metadata": {},
   "outputs": [
    {
     "name": "stdout",
     "output_type": "stream",
     "text": [
      "9\n"
     ]
    }
   ],
   "source": [
    "for i in range(10):\n",
    "    if i == 5:\n",
    "        continue\n",
    "print(i)"
   ]
  },
  {
   "cell_type": "code",
   "execution_count": 23,
   "metadata": {},
   "outputs": [
    {
     "name": "stdout",
     "output_type": "stream",
     "text": [
      "0 0 0\n",
      "0 0 1\n",
      "0 0 2\n",
      "0 0 3\n",
      "0 0 4\n",
      "0 0 5\n",
      "0 0 6\n",
      "0 0 7\n",
      "0 0 8\n",
      "0 0 9\n",
      "0 1 0\n",
      "0 1 1\n",
      "0 1 2\n",
      "0 1 3\n",
      "0 1 4\n",
      "0 1 5\n",
      "0 1 6\n",
      "0 1 7\n",
      "0 1 8\n",
      "0 1 9\n",
      "0 2 0\n",
      "0 2 1\n",
      "0 2 2\n",
      "0 2 3\n",
      "0 2 4\n",
      "0 2 5\n",
      "0 2 6\n",
      "0 2 7\n",
      "0 2 8\n",
      "0 2 9\n",
      "0 3 0\n",
      "0 3 1\n",
      "0 3 2\n",
      "0 3 3\n",
      "0 3 4\n",
      "0 3 5\n",
      "0 3 6\n",
      "0 3 7\n",
      "0 3 8\n",
      "0 3 9\n",
      "0 4 0\n",
      "0 4 1\n",
      "0 4 2\n",
      "0 4 3\n",
      "0 4 4\n",
      "0 4 5\n",
      "0 4 6\n",
      "0 4 7\n",
      "0 4 8\n",
      "0 4 9\n",
      "0 5 0\n",
      "0 5 1\n",
      "0 5 2\n",
      "0 5 3\n",
      "0 5 4\n",
      "0 5 5\n",
      "0 5 6\n",
      "0 5 7\n",
      "0 5 8\n",
      "0 5 9\n",
      "0 6 0\n",
      "0 6 1\n",
      "0 6 2\n",
      "0 6 3\n",
      "0 6 4\n",
      "0 6 5\n",
      "0 6 6\n",
      "0 6 7\n",
      "0 6 8\n",
      "0 6 9\n",
      "0 7 0\n",
      "0 7 1\n",
      "0 7 2\n",
      "0 7 3\n",
      "0 7 4\n",
      "0 7 5\n",
      "0 7 6\n",
      "0 7 7\n",
      "0 7 8\n",
      "0 7 9\n",
      "0 8 0\n",
      "0 8 1\n",
      "0 8 2\n",
      "0 8 3\n",
      "0 8 4\n",
      "0 8 5\n",
      "0 8 6\n",
      "0 8 7\n",
      "0 8 8\n",
      "0 8 9\n",
      "0 9 0\n",
      "0 9 1\n",
      "0 9 2\n",
      "0 9 3\n",
      "0 9 4\n",
      "0 9 5\n",
      "0 9 6\n",
      "0 9 7\n",
      "0 9 8\n",
      "0 9 9\n",
      "1 0 0\n",
      "1 0 1\n",
      "1 0 2\n",
      "1 0 3\n",
      "1 0 4\n",
      "1 0 5\n",
      "1 0 6\n",
      "1 0 7\n",
      "1 0 8\n",
      "1 0 9\n",
      "1 1 0\n",
      "1 1 1\n",
      "1 1 2\n",
      "1 1 3\n",
      "1 1 4\n",
      "1 1 5\n",
      "1 1 6\n",
      "1 1 7\n",
      "1 1 8\n",
      "1 1 9\n",
      "1 2 0\n",
      "1 2 1\n",
      "1 2 2\n",
      "1 2 3\n",
      "1 2 4\n",
      "1 2 5\n",
      "1 2 6\n",
      "1 2 7\n",
      "1 2 8\n",
      "1 2 9\n",
      "1 3 0\n",
      "1 3 1\n",
      "1 3 2\n",
      "1 3 3\n",
      "1 3 4\n",
      "1 3 5\n",
      "1 3 6\n",
      "1 3 7\n",
      "1 3 8\n",
      "1 3 9\n",
      "1 4 0\n",
      "1 4 1\n",
      "1 4 2\n",
      "1 4 3\n",
      "1 4 4\n",
      "1 4 5\n",
      "1 4 6\n",
      "1 4 7\n",
      "1 4 8\n",
      "1 4 9\n",
      "1 5 0\n",
      "1 5 1\n",
      "1 5 2\n",
      "1 5 3\n",
      "1 5 4\n",
      "1 5 5\n",
      "1 5 6\n",
      "1 5 7\n",
      "1 5 8\n",
      "1 5 9\n",
      "1 6 0\n",
      "1 6 1\n",
      "1 6 2\n",
      "1 6 3\n",
      "1 6 4\n",
      "1 6 5\n",
      "1 6 6\n",
      "1 6 7\n",
      "1 6 8\n",
      "1 6 9\n",
      "1 7 0\n",
      "1 7 1\n",
      "1 7 2\n",
      "1 7 3\n",
      "1 7 4\n",
      "1 7 5\n",
      "1 7 6\n",
      "1 7 7\n",
      "1 7 8\n",
      "1 7 9\n",
      "1 8 0\n",
      "1 8 1\n",
      "1 8 2\n",
      "1 8 3\n",
      "1 8 4\n",
      "1 8 5\n",
      "1 8 6\n",
      "1 8 7\n",
      "1 8 8\n",
      "1 8 9\n",
      "1 9 0\n",
      "1 9 1\n",
      "1 9 2\n",
      "1 9 3\n",
      "1 9 4\n",
      "1 9 5\n",
      "1 9 6\n",
      "1 9 7\n",
      "1 9 8\n",
      "1 9 9\n",
      "2 0 0\n",
      "2 0 1\n",
      "2 0 2\n",
      "2 0 3\n",
      "2 0 4\n",
      "2 0 5\n",
      "2 0 6\n",
      "2 0 7\n",
      "2 0 8\n",
      "2 0 9\n",
      "2 1 0\n",
      "2 1 1\n",
      "2 1 2\n",
      "2 1 3\n",
      "2 1 4\n",
      "2 1 5\n",
      "2 1 6\n",
      "2 1 7\n",
      "2 1 8\n",
      "2 1 9\n",
      "2 2 0\n",
      "2 2 1\n",
      "2 2 2\n",
      "2 2 3\n",
      "2 2 4\n",
      "2 2 5\n",
      "2 2 6\n",
      "2 2 7\n",
      "2 2 8\n",
      "2 2 9\n",
      "2 3 0\n",
      "2 3 1\n",
      "2 3 2\n",
      "2 3 3\n",
      "2 3 4\n",
      "2 3 5\n",
      "2 3 6\n",
      "2 3 7\n",
      "2 3 8\n",
      "2 3 9\n",
      "2 4 0\n",
      "2 4 1\n",
      "2 4 2\n",
      "2 4 3\n",
      "2 4 4\n",
      "2 4 5\n",
      "2 4 6\n",
      "2 4 7\n",
      "2 4 8\n",
      "2 4 9\n",
      "2 5 0\n",
      "2 5 1\n",
      "2 5 2\n",
      "2 5 3\n",
      "2 5 4\n",
      "2 5 5\n",
      "2 5 6\n",
      "2 5 7\n",
      "2 5 8\n",
      "2 5 9\n",
      "2 6 0\n",
      "2 6 1\n",
      "2 6 2\n",
      "2 6 3\n",
      "2 6 4\n",
      "2 6 5\n",
      "2 6 6\n",
      "2 6 7\n",
      "2 6 8\n",
      "2 6 9\n",
      "2 7 0\n",
      "2 7 1\n",
      "2 7 2\n",
      "2 7 3\n",
      "2 7 4\n",
      "2 7 5\n",
      "2 7 6\n",
      "2 7 7\n",
      "2 7 8\n",
      "2 7 9\n",
      "2 8 0\n",
      "2 8 1\n",
      "2 8 2\n",
      "2 8 3\n",
      "2 8 4\n",
      "2 8 5\n",
      "2 8 6\n",
      "2 8 7\n",
      "2 8 8\n",
      "2 8 9\n",
      "2 9 0\n",
      "2 9 1\n",
      "2 9 2\n",
      "2 9 3\n",
      "2 9 4\n",
      "2 9 5\n",
      "2 9 6\n",
      "2 9 7\n",
      "2 9 8\n",
      "2 9 9\n",
      "3 0 0\n",
      "3 0 1\n",
      "3 0 2\n",
      "3 0 3\n",
      "3 0 4\n",
      "3 0 5\n",
      "3 0 6\n",
      "3 0 7\n",
      "3 0 8\n",
      "3 0 9\n",
      "3 1 0\n",
      "3 1 1\n",
      "3 1 2\n",
      "3 1 3\n",
      "3 1 4\n",
      "3 1 5\n",
      "3 1 6\n",
      "3 1 7\n",
      "3 1 8\n",
      "3 1 9\n",
      "3 2 0\n",
      "3 2 1\n",
      "3 2 2\n",
      "3 2 3\n",
      "3 2 4\n",
      "3 2 5\n",
      "3 2 6\n",
      "3 2 7\n",
      "3 2 8\n",
      "3 2 9\n",
      "3 3 0\n",
      "3 3 1\n",
      "3 3 2\n",
      "3 3 3\n",
      "3 3 4\n",
      "3 3 5\n",
      "3 3 6\n",
      "3 3 7\n",
      "3 3 8\n",
      "3 3 9\n",
      "3 4 0\n",
      "3 4 1\n",
      "3 4 2\n",
      "3 4 3\n",
      "3 4 4\n",
      "3 4 5\n",
      "3 4 6\n",
      "3 4 7\n",
      "3 4 8\n",
      "3 4 9\n",
      "3 5 0\n",
      "3 5 1\n",
      "3 5 2\n",
      "3 5 3\n",
      "3 5 4\n",
      "3 5 5\n",
      "3 5 6\n",
      "3 5 7\n",
      "3 5 8\n",
      "3 5 9\n",
      "3 6 0\n",
      "3 6 1\n",
      "3 6 2\n",
      "3 6 3\n",
      "3 6 4\n",
      "3 6 5\n",
      "3 6 6\n",
      "3 6 7\n",
      "3 6 8\n",
      "3 6 9\n",
      "3 7 0\n",
      "3 7 1\n",
      "3 7 2\n",
      "3 7 3\n",
      "3 7 4\n",
      "3 7 5\n",
      "3 7 6\n",
      "3 7 7\n",
      "3 7 8\n",
      "3 7 9\n",
      "3 8 0\n",
      "3 8 1\n",
      "3 8 2\n",
      "3 8 3\n",
      "3 8 4\n",
      "3 8 5\n",
      "3 8 6\n",
      "3 8 7\n",
      "3 8 8\n",
      "3 8 9\n",
      "3 9 0\n",
      "3 9 1\n",
      "3 9 2\n",
      "3 9 3\n",
      "3 9 4\n",
      "3 9 5\n",
      "3 9 6\n",
      "3 9 7\n",
      "3 9 8\n",
      "3 9 9\n",
      "4 0 0\n",
      "4 0 1\n",
      "4 0 2\n",
      "4 0 3\n",
      "4 0 4\n",
      "4 0 5\n",
      "4 0 6\n",
      "4 0 7\n",
      "4 0 8\n",
      "4 0 9\n",
      "4 1 0\n",
      "4 1 1\n",
      "4 1 2\n",
      "4 1 3\n",
      "4 1 4\n",
      "4 1 5\n",
      "4 1 6\n",
      "4 1 7\n",
      "4 1 8\n",
      "4 1 9\n",
      "4 2 0\n",
      "4 2 1\n",
      "4 2 2\n",
      "4 2 3\n",
      "4 2 4\n",
      "4 2 5\n",
      "4 2 6\n",
      "4 2 7\n",
      "4 2 8\n",
      "4 2 9\n",
      "4 3 0\n",
      "4 3 1\n",
      "4 3 2\n",
      "4 3 3\n",
      "4 3 4\n",
      "4 3 5\n",
      "4 3 6\n",
      "4 3 7\n",
      "4 3 8\n",
      "4 3 9\n",
      "4 4 0\n",
      "4 4 1\n",
      "4 4 2\n",
      "4 4 3\n",
      "4 4 4\n",
      "4 4 5\n",
      "4 4 6\n",
      "4 4 7\n",
      "4 4 8\n",
      "4 4 9\n",
      "4 5 0\n",
      "4 5 1\n",
      "4 5 2\n",
      "4 5 3\n",
      "4 5 4\n",
      "4 5 5\n",
      "4 5 6\n",
      "4 5 7\n",
      "4 5 8\n",
      "4 5 9\n",
      "4 6 0\n",
      "4 6 1\n",
      "4 6 2\n",
      "4 6 3\n",
      "4 6 4\n",
      "4 6 5\n",
      "4 6 6\n",
      "4 6 7\n",
      "4 6 8\n",
      "4 6 9\n",
      "4 7 0\n",
      "4 7 1\n",
      "4 7 2\n",
      "4 7 3\n",
      "4 7 4\n",
      "4 7 5\n",
      "4 7 6\n",
      "4 7 7\n",
      "4 7 8\n",
      "4 7 9\n",
      "4 8 0\n",
      "4 8 1\n",
      "4 8 2\n",
      "4 8 3\n",
      "4 8 4\n",
      "4 8 5\n",
      "4 8 6\n",
      "4 8 7\n",
      "4 8 8\n",
      "4 8 9\n",
      "4 9 0\n",
      "4 9 1\n",
      "4 9 2\n",
      "4 9 3\n",
      "4 9 4\n",
      "4 9 5\n",
      "4 9 6\n",
      "4 9 7\n",
      "4 9 8\n",
      "4 9 9\n",
      "5 0 0\n",
      "5 0 1\n",
      "5 0 2\n",
      "5 0 3\n",
      "5 0 4\n",
      "5 0 5\n",
      "5 0 6\n",
      "5 0 7\n",
      "5 0 8\n",
      "5 0 9\n",
      "5 1 0\n",
      "5 1 1\n",
      "5 1 2\n",
      "5 1 3\n",
      "5 1 4\n",
      "5 1 5\n",
      "5 1 6\n",
      "5 1 7\n",
      "5 1 8\n",
      "5 1 9\n",
      "5 2 0\n",
      "5 2 1\n",
      "5 2 2\n",
      "5 2 3\n",
      "5 2 4\n",
      "5 2 5\n",
      "5 2 6\n",
      "5 2 7\n",
      "5 2 8\n",
      "5 2 9\n",
      "5 3 0\n",
      "5 3 1\n",
      "5 3 2\n",
      "5 3 3\n",
      "5 3 4\n",
      "5 3 5\n",
      "5 3 6\n",
      "5 3 7\n",
      "5 3 8\n",
      "5 3 9\n",
      "5 4 0\n",
      "5 4 1\n",
      "5 4 2\n",
      "5 4 3\n",
      "5 4 4\n",
      "5 4 5\n",
      "5 4 6\n",
      "5 4 7\n",
      "5 4 8\n",
      "5 4 9\n",
      "5 5 0\n",
      "5 5 1\n",
      "5 5 2\n",
      "5 5 3\n",
      "5 5 4\n",
      "5 5 5\n",
      "5 5 6\n",
      "5 5 7\n",
      "5 5 8\n",
      "5 5 9\n",
      "5 6 0\n",
      "5 6 1\n",
      "5 6 2\n",
      "5 6 3\n",
      "5 6 4\n",
      "5 6 5\n",
      "5 6 6\n",
      "5 6 7\n",
      "5 6 8\n",
      "5 6 9\n",
      "5 7 0\n",
      "5 7 1\n",
      "5 7 2\n",
      "5 7 3\n",
      "5 7 4\n",
      "5 7 5\n",
      "5 7 6\n",
      "5 7 7\n",
      "5 7 8\n",
      "5 7 9\n",
      "5 8 0\n",
      "5 8 1\n",
      "5 8 2\n",
      "5 8 3\n",
      "5 8 4\n",
      "5 8 5\n",
      "5 8 6\n",
      "5 8 7\n",
      "5 8 8\n",
      "5 8 9\n",
      "5 9 0\n",
      "5 9 1\n",
      "5 9 2\n",
      "5 9 3\n",
      "5 9 4\n",
      "5 9 5\n",
      "5 9 6\n",
      "5 9 7\n",
      "5 9 8\n",
      "5 9 9\n",
      "6 0 0\n",
      "6 0 1\n",
      "6 0 2\n",
      "6 0 3\n",
      "6 0 4\n",
      "6 0 5\n",
      "6 0 6\n",
      "6 0 7\n",
      "6 0 8\n",
      "6 0 9\n",
      "6 1 0\n",
      "6 1 1\n",
      "6 1 2\n",
      "6 1 3\n",
      "6 1 4\n",
      "6 1 5\n",
      "6 1 6\n",
      "6 1 7\n",
      "6 1 8\n",
      "6 1 9\n",
      "6 2 0\n",
      "6 2 1\n",
      "6 2 2\n",
      "6 2 3\n",
      "6 2 4\n",
      "6 2 5\n",
      "6 2 6\n",
      "6 2 7\n",
      "6 2 8\n",
      "6 2 9\n",
      "6 3 0\n",
      "6 3 1\n",
      "6 3 2\n",
      "6 3 3\n",
      "6 3 4\n",
      "6 3 5\n",
      "6 3 6\n",
      "6 3 7\n",
      "6 3 8\n",
      "6 3 9\n",
      "6 4 0\n",
      "6 4 1\n",
      "6 4 2\n",
      "6 4 3\n",
      "6 4 4\n",
      "6 4 5\n",
      "6 4 6\n",
      "6 4 7\n",
      "6 4 8\n",
      "6 4 9\n",
      "6 5 0\n",
      "6 5 1\n",
      "6 5 2\n",
      "6 5 3\n",
      "6 5 4\n",
      "6 5 5\n",
      "6 5 6\n",
      "6 5 7\n",
      "6 5 8\n",
      "6 5 9\n",
      "6 6 0\n",
      "6 6 1\n",
      "6 6 2\n",
      "6 6 3\n",
      "6 6 4\n",
      "6 6 5\n",
      "6 6 6\n",
      "6 6 7\n",
      "6 6 8\n",
      "6 6 9\n",
      "6 7 0\n",
      "6 7 1\n",
      "6 7 2\n",
      "6 7 3\n",
      "6 7 4\n",
      "6 7 5\n",
      "6 7 6\n",
      "6 7 7\n",
      "6 7 8\n",
      "6 7 9\n",
      "6 8 0\n",
      "6 8 1\n",
      "6 8 2\n",
      "6 8 3\n",
      "6 8 4\n",
      "6 8 5\n",
      "6 8 6\n",
      "6 8 7\n",
      "6 8 8\n",
      "6 8 9\n",
      "6 9 0\n",
      "6 9 1\n",
      "6 9 2\n",
      "6 9 3\n",
      "6 9 4\n",
      "6 9 5\n",
      "6 9 6\n",
      "6 9 7\n",
      "6 9 8\n",
      "6 9 9\n",
      "7 0 0\n",
      "7 0 1\n",
      "7 0 2\n",
      "7 0 3\n",
      "7 0 4\n",
      "7 0 5\n",
      "7 0 6\n",
      "7 0 7\n",
      "7 0 8\n",
      "7 0 9\n",
      "7 1 0\n",
      "7 1 1\n",
      "7 1 2\n",
      "7 1 3\n",
      "7 1 4\n",
      "7 1 5\n",
      "7 1 6\n",
      "7 1 7\n",
      "7 1 8\n",
      "7 1 9\n",
      "7 2 0\n",
      "7 2 1\n",
      "7 2 2\n",
      "7 2 3\n",
      "7 2 4\n",
      "7 2 5\n",
      "7 2 6\n",
      "7 2 7\n",
      "7 2 8\n",
      "7 2 9\n",
      "7 3 0\n",
      "7 3 1\n",
      "7 3 2\n",
      "7 3 3\n",
      "7 3 4\n",
      "7 3 5\n",
      "7 3 6\n",
      "7 3 7\n",
      "7 3 8\n",
      "7 3 9\n",
      "7 4 0\n",
      "7 4 1\n",
      "7 4 2\n",
      "7 4 3\n",
      "7 4 4\n",
      "7 4 5\n",
      "7 4 6\n",
      "7 4 7\n",
      "7 4 8\n",
      "7 4 9\n",
      "7 5 0\n",
      "7 5 1\n",
      "7 5 2\n",
      "7 5 3\n",
      "7 5 4\n",
      "7 5 5\n",
      "7 5 6\n",
      "7 5 7\n",
      "7 5 8\n",
      "7 5 9\n",
      "7 6 0\n",
      "7 6 1\n",
      "7 6 2\n",
      "7 6 3\n",
      "7 6 4\n",
      "7 6 5\n",
      "7 6 6\n",
      "7 6 7\n",
      "7 6 8\n",
      "7 6 9\n",
      "7 7 0\n",
      "7 7 1\n",
      "7 7 2\n",
      "7 7 3\n",
      "7 7 4\n",
      "7 7 5\n",
      "7 7 6\n",
      "7 7 7\n",
      "7 7 8\n",
      "7 7 9\n",
      "7 8 0\n",
      "7 8 1\n",
      "7 8 2\n",
      "7 8 3\n",
      "7 8 4\n",
      "7 8 5\n",
      "7 8 6\n",
      "7 8 7\n",
      "7 8 8\n",
      "7 8 9\n",
      "7 9 0\n",
      "7 9 1\n",
      "7 9 2\n",
      "7 9 3\n",
      "7 9 4\n",
      "7 9 5\n",
      "7 9 6\n",
      "7 9 7\n",
      "7 9 8\n",
      "7 9 9\n",
      "8 0 0\n",
      "8 0 1\n",
      "8 0 2\n",
      "8 0 3\n",
      "8 0 4\n",
      "8 0 5\n",
      "8 0 6\n",
      "8 0 7\n",
      "8 0 8\n",
      "8 0 9\n",
      "8 1 0\n",
      "8 1 1\n",
      "8 1 2\n",
      "8 1 3\n",
      "8 1 4\n",
      "8 1 5\n",
      "8 1 6\n",
      "8 1 7\n",
      "8 1 8\n",
      "8 1 9\n",
      "8 2 0\n",
      "8 2 1\n",
      "8 2 2\n",
      "8 2 3\n",
      "8 2 4\n",
      "8 2 5\n",
      "8 2 6\n",
      "8 2 7\n",
      "8 2 8\n",
      "8 2 9\n",
      "8 3 0\n",
      "8 3 1\n",
      "8 3 2\n",
      "8 3 3\n",
      "8 3 4\n",
      "8 3 5\n",
      "8 3 6\n",
      "8 3 7\n",
      "8 3 8\n",
      "8 3 9\n",
      "8 4 0\n",
      "8 4 1\n",
      "8 4 2\n",
      "8 4 3\n",
      "8 4 4\n",
      "8 4 5\n",
      "8 4 6\n",
      "8 4 7\n",
      "8 4 8\n",
      "8 4 9\n",
      "8 5 0\n",
      "8 5 1\n",
      "8 5 2\n",
      "8 5 3\n",
      "8 5 4\n",
      "8 5 5\n",
      "8 5 6\n",
      "8 5 7\n",
      "8 5 8\n",
      "8 5 9\n",
      "8 6 0\n",
      "8 6 1\n",
      "8 6 2\n",
      "8 6 3\n",
      "8 6 4\n",
      "8 6 5\n",
      "8 6 6\n",
      "8 6 7\n",
      "8 6 8\n",
      "8 6 9\n",
      "8 7 0\n",
      "8 7 1\n",
      "8 7 2\n",
      "8 7 3\n",
      "8 7 4\n",
      "8 7 5\n",
      "8 7 6\n",
      "8 7 7\n",
      "8 7 8\n",
      "8 7 9\n",
      "8 8 0\n",
      "8 8 1\n",
      "8 8 2\n",
      "8 8 3\n",
      "8 8 4\n",
      "8 8 5\n",
      "8 8 6\n",
      "8 8 7\n",
      "8 8 8\n",
      "8 8 9\n",
      "8 9 0\n",
      "8 9 1\n",
      "8 9 2\n",
      "8 9 3\n",
      "8 9 4\n",
      "8 9 5\n",
      "8 9 6\n",
      "8 9 7\n",
      "8 9 8\n",
      "8 9 9\n",
      "9 0 0\n",
      "9 0 1\n",
      "9 0 2\n",
      "9 0 3\n",
      "9 0 4\n",
      "9 0 5\n",
      "9 0 6\n",
      "9 0 7\n",
      "9 0 8\n",
      "9 0 9\n",
      "9 1 0\n",
      "9 1 1\n",
      "9 1 2\n",
      "9 1 3\n",
      "9 1 4\n",
      "9 1 5\n",
      "9 1 6\n",
      "9 1 7\n",
      "9 1 8\n",
      "9 1 9\n",
      "9 2 0\n",
      "9 2 1\n",
      "9 2 2\n",
      "9 2 3\n",
      "9 2 4\n",
      "9 2 5\n",
      "9 2 6\n",
      "9 2 7\n",
      "9 2 8\n",
      "9 2 9\n",
      "9 3 0\n",
      "9 3 1\n",
      "9 3 2\n",
      "9 3 3\n",
      "9 3 4\n",
      "9 3 5\n",
      "9 3 6\n",
      "9 3 7\n",
      "9 3 8\n",
      "9 3 9\n",
      "9 4 0\n",
      "9 4 1\n",
      "9 4 2\n",
      "9 4 3\n",
      "9 4 4\n",
      "9 4 5\n",
      "9 4 6\n",
      "9 4 7\n",
      "9 4 8\n",
      "9 4 9\n",
      "9 5 0\n",
      "9 5 1\n",
      "9 5 2\n",
      "9 5 3\n",
      "9 5 4\n",
      "9 5 5\n",
      "9 5 6\n",
      "9 5 7\n",
      "9 5 8\n",
      "9 5 9\n",
      "9 6 0\n",
      "9 6 1\n",
      "9 6 2\n",
      "9 6 3\n",
      "9 6 4\n",
      "9 6 5\n",
      "9 6 6\n",
      "9 6 7\n",
      "9 6 8\n",
      "9 6 9\n",
      "9 7 0\n",
      "9 7 1\n",
      "9 7 2\n",
      "9 7 3\n",
      "9 7 4\n",
      "9 7 5\n",
      "9 7 6\n",
      "9 7 7\n",
      "9 7 8\n",
      "9 7 9\n",
      "9 8 0\n",
      "9 8 1\n",
      "9 8 2\n",
      "9 8 3\n",
      "9 8 4\n",
      "9 8 5\n",
      "9 8 6\n",
      "9 8 7\n",
      "9 8 8\n",
      "9 8 9\n",
      "9 9 0\n",
      "9 9 1\n",
      "9 9 2\n",
      "9 9 3\n",
      "9 9 4\n",
      "9 9 5\n",
      "9 9 6\n",
      "9 9 7\n",
      "9 9 8\n",
      "9 9 9\n"
     ]
    }
   ],
   "source": [
    "for i in range(10):\n",
    "    for j in range(10):\n",
    "        for k in range(10):\n",
    "            print(i,j,k)"
   ]
  },
  {
   "cell_type": "code",
   "execution_count": 24,
   "metadata": {},
   "outputs": [
    {
     "name": "stdout",
     "output_type": "stream",
     "text": [
      "5\n"
     ]
    }
   ],
   "source": [
    "for i in range(10):\n",
    "    if i == 5:\n",
    "        break\n",
    "print(i)"
   ]
  },
  {
   "cell_type": "code",
   "execution_count": 27,
   "metadata": {},
   "outputs": [
    {
     "name": "stdout",
     "output_type": "stream",
     "text": [
      "9\n"
     ]
    }
   ],
   "source": [
    "for i in range(10):\n",
    "    if i == 5:\n",
    "        continue\n",
    "print(i)"
   ]
  },
  {
   "cell_type": "code",
   "execution_count": 31,
   "metadata": {},
   "outputs": [
    {
     "name": "stdout",
     "output_type": "stream",
     "text": [
      "0 0\n",
      "0 1\n",
      "0 2\n",
      "0 3\n",
      "0 4\n",
      "0 5\n",
      "1 0\n",
      "1 1\n",
      "1 2\n",
      "1 3\n",
      "1 4\n",
      "1 5\n",
      "2 0\n",
      "2 1\n",
      "2 2\n",
      "2 3\n",
      "2 4\n",
      "2 5\n",
      "3 0\n",
      "3 1\n",
      "3 2\n",
      "3 3\n",
      "3 4\n",
      "3 5\n",
      "4 0\n",
      "4 1\n",
      "4 2\n",
      "4 3\n",
      "4 4\n",
      "4 5\n",
      "5 0\n",
      "5 1\n",
      "5 2\n",
      "5 3\n",
      "5 4\n",
      "5 5\n",
      "6 0\n",
      "6 1\n",
      "6 2\n",
      "6 3\n",
      "6 4\n",
      "6 5\n",
      "7 0\n",
      "7 1\n",
      "7 2\n",
      "7 3\n",
      "7 4\n",
      "7 5\n",
      "8 0\n",
      "8 1\n",
      "8 2\n",
      "8 3\n",
      "8 4\n",
      "8 5\n",
      "9 0\n",
      "9 1\n",
      "9 2\n",
      "9 3\n",
      "9 4\n",
      "9 5\n"
     ]
    }
   ],
   "source": [
    "for i in range(10):\n",
    "    for j in range(10):\n",
    "        print(i,j)\n",
    "        if j ==5:\n",
    "            break"
   ]
  },
  {
   "cell_type": "markdown",
   "metadata": {},
   "source": [
    "## 注意\n",
    "![](../Photo/56.png)\n",
    "![](../Photo/57.png)"
   ]
  },
  {
   "cell_type": "markdown",
   "metadata": {},
   "source": [
    "- 2\n",
    "![](../Photo/59.png)"
   ]
  },
  {
   "cell_type": "code",
   "execution_count": 3,
   "metadata": {},
   "outputs": [
    {
     "name": "stdout",
     "output_type": "stream",
     "text": [
      "10500.0\n"
     ]
    }
   ],
   "source": [
    "money = 10000\n",
    "i=1\n",
    "if i <10:\n",
    "    money += money*(5/100)\n",
    "    i += 1\n",
    "print(money)"
   ]
  },
  {
   "cell_type": "markdown",
   "metadata": {},
   "source": [
    "- 3\n",
    "![](../Photo/58.png)"
   ]
  },
  {
   "cell_type": "markdown",
   "metadata": {},
   "source": [
    "- 4\n",
    "![](../Photo/60.png)"
   ]
  },
  {
   "cell_type": "code",
   "execution_count": 5,
   "metadata": {},
   "outputs": [
    {
     "name": "stdout",
     "output_type": "stream",
     "text": [
      "120\n",
      "150\n",
      "180\n",
      "210\n",
      "240\n",
      "270\n",
      "300\n",
      "330\n",
      "360\n",
      "390\n",
      "\n",
      "\n",
      "420\n",
      "450\n",
      "480\n",
      "510\n",
      "540\n",
      "570\n",
      "600\n",
      "630\n",
      "660\n",
      "690\n",
      "\n",
      "\n",
      "720\n",
      "750\n",
      "780\n",
      "810\n",
      "840\n",
      "870\n",
      "900\n",
      "930\n",
      "960\n",
      "990\n",
      "\n",
      "\n"
     ]
    }
   ],
   "source": [
    "count = 0\n",
    "for i in range(100,1000):\n",
    "    if i % 5!=0 and i % 6 !=0:\n",
    "        continue\n",
    "    elif i % 5==0 and i % 6 ==0:\n",
    "        print(i)\n",
    "        count+=1\n",
    "        if count % 10 == 0:\n",
    "            print(\"\")\n",
    "            count=0\n",
    "        else:\n",
    "            continue"
   ]
  },
  {
   "cell_type": "markdown",
   "metadata": {},
   "source": [
    "- 5\n",
    "![](../Photo/61.png)"
   ]
  },
  {
   "cell_type": "code",
   "execution_count": 15,
   "metadata": {},
   "outputs": [
    {
     "name": "stdout",
     "output_type": "stream",
     "text": [
      "110\n"
     ]
    }
   ],
   "source": [
    "n=1\n",
    "while n*n <12000:\n",
    "    n=n+1\n",
    "    continue\n",
    "print(n)"
   ]
  },
  {
   "cell_type": "code",
   "execution_count": 9,
   "metadata": {},
   "outputs": [
    {
     "name": "stdout",
     "output_type": "stream",
     "text": [
      "23\n"
     ]
    }
   ],
   "source": [
    "n=1\n",
    "while n*n*n<12000:\n",
    "    n=n+1\n",
    "    continue\n",
    "print((n))"
   ]
  },
  {
   "cell_type": "markdown",
   "metadata": {},
   "source": [
    "- 6\n",
    "![](../Photo/62.png)"
   ]
  },
  {
   "cell_type": "code",
   "execution_count": null,
   "metadata": {},
   "outputs": [],
   "source": [
    "dai=eval(input('输入贷款数'))\n",
    "zhouqi=eval(input('输入以年为单位的贷款周期'))"
   ]
  },
  {
   "cell_type": "markdown",
   "metadata": {},
   "source": [
    "- 7\n",
    "![](../Photo/63.png)"
   ]
  },
  {
   "cell_type": "code",
   "execution_count": 2,
   "metadata": {},
   "outputs": [
    {
     "name": "stdout",
     "output_type": "stream",
     "text": [
      "11.397003949278504\n"
     ]
    }
   ],
   "source": [
    "i = 1\n",
    "a = i\n",
    "while i<50000:\n",
    "    i += 1\n",
    "    a += 1/i\n",
    "print(a)"
   ]
  },
  {
   "cell_type": "markdown",
   "metadata": {},
   "source": [
    "- 8\n",
    "![](../Photo/64.png)"
   ]
  },
  {
   "cell_type": "code",
   "execution_count": 16,
   "metadata": {},
   "outputs": [
    {
     "name": "stdout",
     "output_type": "stream",
     "text": [
      "45.124450303050196\n"
     ]
    }
   ],
   "source": [
    "sum = 0\n",
    "for i in range(3,100,2):\n",
    "    sum += (i-2)/i\n",
    "print(sum)"
   ]
  },
  {
   "cell_type": "markdown",
   "metadata": {},
   "source": [
    "- 9\n",
    "![](../Photo/65.png)"
   ]
  },
  {
   "cell_type": "code",
   "execution_count": 1,
   "metadata": {},
   "outputs": [
    {
     "ename": "TypeError",
     "evalue": "unsupported operand type(s) for +: 'float' and 'ellipsis'",
     "output_type": "error",
     "traceback": [
      "\u001b[1;31m---------------------------------------------------------------------------\u001b[0m",
      "\u001b[1;31mTypeError\u001b[0m                                 Traceback (most recent call last)",
      "\u001b[1;32m<ipython-input-1-2a7aa806422a>\u001b[0m in \u001b[0;36m<module>\u001b[1;34m\u001b[0m\n\u001b[0;32m      1\u001b[0m \u001b[0mi\u001b[0m\u001b[1;33m=\u001b[0m\u001b[1;36m10000\u001b[0m\u001b[1;33m\u001b[0m\u001b[1;33m\u001b[0m\u001b[0m\n\u001b[0;32m      2\u001b[0m \u001b[1;32mfor\u001b[0m \u001b[0mi\u001b[0m \u001b[1;32min\u001b[0m \u001b[0mrange\u001b[0m\u001b[1;33m(\u001b[0m\u001b[1;36m10\u001b[0m\u001b[1;33m)\u001b[0m\u001b[1;33m:\u001b[0m\u001b[1;33m\u001b[0m\u001b[1;33m\u001b[0m\u001b[0m\n\u001b[1;32m----> 3\u001b[1;33m     \u001b[0mpi\u001b[0m\u001b[1;33m=\u001b[0m\u001b[1;36m4\u001b[0m\u001b[1;33m(\u001b[0m\u001b[1;36m1\u001b[0m\u001b[1;33m-\u001b[0m\u001b[1;36m1\u001b[0m\u001b[1;33m/\u001b[0m\u001b[1;36m3\u001b[0m\u001b[1;33m+\u001b[0m\u001b[1;36m1\u001b[0m\u001b[1;33m/\u001b[0m\u001b[1;36m5\u001b[0m\u001b[1;33m-\u001b[0m\u001b[1;36m1\u001b[0m\u001b[1;33m/\u001b[0m\u001b[1;36m7\u001b[0m\u001b[1;33m+\u001b[0m\u001b[1;36m1\u001b[0m\u001b[1;33m/\u001b[0m\u001b[1;36m9\u001b[0m\u001b[1;33m-\u001b[0m\u001b[1;36m1\u001b[0m\u001b[1;33m/\u001b[0m\u001b[1;36m11\u001b[0m\u001b[1;33m+\u001b[0m\u001b[1;33m...\u001b[0m\u001b[1;33m+\u001b[0m\u001b[1;33m(\u001b[0m\u001b[1;33m-\u001b[0m\u001b[1;36m1\u001b[0m\u001b[1;33m^\u001b[0m\u001b[1;33m(\u001b[0m\u001b[0mi\u001b[0m\u001b[1;33m+\u001b[0m\u001b[1;36m1\u001b[0m\u001b[1;33m)\u001b[0m\u001b[1;33m)\u001b[0m\u001b[1;33m/\u001b[0m\u001b[1;36m2\u001b[0m\u001b[1;33m*\u001b[0m\u001b[0mi\u001b[0m\u001b[1;33m-\u001b[0m\u001b[1;36m1\u001b[0m\u001b[1;33m)\u001b[0m\u001b[1;33m\u001b[0m\u001b[1;33m\u001b[0m\u001b[0m\n\u001b[0m\u001b[0;32m      4\u001b[0m     \u001b[0mi\u001b[0m \u001b[1;33m+=\u001b[0m\u001b[1;36m10000\u001b[0m\u001b[1;33m\u001b[0m\u001b[1;33m\u001b[0m\u001b[0m\n\u001b[0;32m      5\u001b[0m \u001b[0mprint\u001b[0m\u001b[1;33m(\u001b[0m\u001b[0mpi\u001b[0m\u001b[1;33m)\u001b[0m\u001b[1;33m\u001b[0m\u001b[1;33m\u001b[0m\u001b[0m\n",
      "\u001b[1;31mTypeError\u001b[0m: unsupported operand type(s) for +: 'float' and 'ellipsis'"
     ]
    }
   ],
   "source": [
    "i=10000\n",
    "for i in range(10):\n",
    "    pi=4(1-1/3+1/5-1/7+1/9-1/11+...+(-1^(i+1))/2*i-1)\n",
    "    i +=10000\n",
    "print(pi)"
   ]
  },
  {
   "cell_type": "markdown",
   "metadata": {},
   "source": [
    "- 10 \n",
    "![](../Photo/66.png)"
   ]
  },
  {
   "cell_type": "code",
   "execution_count": 18,
   "metadata": {},
   "outputs": [
    {
     "name": "stdout",
     "output_type": "stream",
     "text": [
      "6\n",
      "28\n",
      "496\n",
      "8128\n"
     ]
    }
   ],
   "source": [
    "for i in range(1,10000):\n",
    "    s = 0\n",
    "    for k in range(1,i):\n",
    "        if i % k == 0:\n",
    "            s = s+k\n",
    "    if i ==s:\n",
    "        print(i)"
   ]
  },
  {
   "cell_type": "markdown",
   "metadata": {},
   "source": [
    "- 11\n",
    "![](../Photo/67.png)"
   ]
  },
  {
   "cell_type": "code",
   "execution_count": 5,
   "metadata": {},
   "outputs": [
    {
     "name": "stdout",
     "output_type": "stream",
     "text": [
      "[[1, 2], [1, 3], [1, 4], [1, 5], [1, 6], [1, 7]]\n",
      "6\n",
      "[[1, 2], [1, 3], [1, 4], [1, 5], [1, 6], [1, 7], [2, 3], [2, 4], [2, 5], [2, 6], [2, 7]]\n",
      "11\n",
      "[[1, 2], [1, 3], [1, 4], [1, 5], [1, 6], [1, 7], [2, 3], [2, 4], [2, 5], [2, 6], [2, 7], [3, 4], [3, 5], [3, 6], [3, 7]]\n",
      "15\n",
      "[[1, 2], [1, 3], [1, 4], [1, 5], [1, 6], [1, 7], [2, 3], [2, 4], [2, 5], [2, 6], [2, 7], [3, 4], [3, 5], [3, 6], [3, 7], [4, 5], [4, 6], [4, 7]]\n",
      "18\n",
      "[[1, 2], [1, 3], [1, 4], [1, 5], [1, 6], [1, 7], [2, 3], [2, 4], [2, 5], [2, 6], [2, 7], [3, 4], [3, 5], [3, 6], [3, 7], [4, 5], [4, 6], [4, 7], [5, 6], [5, 7]]\n",
      "20\n",
      "[[1, 2], [1, 3], [1, 4], [1, 5], [1, 6], [1, 7], [2, 3], [2, 4], [2, 5], [2, 6], [2, 7], [3, 4], [3, 5], [3, 6], [3, 7], [4, 5], [4, 6], [4, 7], [5, 6], [5, 7], [6, 7]]\n",
      "21\n",
      "[[1, 2], [1, 3], [1, 4], [1, 5], [1, 6], [1, 7], [2, 3], [2, 4], [2, 5], [2, 6], [2, 7], [3, 4], [3, 5], [3, 6], [3, 7], [4, 5], [4, 6], [4, 7], [5, 6], [5, 7], [6, 7]]\n",
      "21\n"
     ]
    }
   ],
   "source": [
    "tmp=[]\n",
    "for i in range(1,8):\n",
    "    for j in range(1,8):\n",
    "        if i != j and sorted([i,j]) not in tmp:#sorted返回数值 \n",
    "            tmp.append([i,j])#追加\n",
    "    print(tmp)\n",
    "    print(len(tmp))#个数的统计"
   ]
  },
  {
   "cell_type": "markdown",
   "metadata": {},
   "source": [
    "- 12\n",
    "![](../Photo/68.png)"
   ]
  },
  {
   "cell_type": "code",
   "execution_count": null,
   "metadata": {},
   "outputs": [],
   "source": [
    "i=0\n",
    "for i in range(10):\n",
    "    mean = (x1+x2+...+xn)/n\n",
    "    deviation="
   ]
  }
 ],
 "metadata": {
  "kernelspec": {
   "display_name": "Python 3",
   "language": "python",
   "name": "python3"
  },
  "language_info": {
   "codemirror_mode": {
    "name": "ipython",
    "version": 3
   },
   "file_extension": ".py",
   "mimetype": "text/x-python",
   "name": "python",
   "nbconvert_exporter": "python",
   "pygments_lexer": "ipython3",
   "version": "3.7.3"
  }
 },
 "nbformat": 4,
 "nbformat_minor": 2
}
